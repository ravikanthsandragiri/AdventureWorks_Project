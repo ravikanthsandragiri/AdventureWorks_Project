{
 "cells": [
  {
   "cell_type": "markdown",
   "id": "2d01fca7-679e-4d3a-a4da-e87e15005ca3",
   "metadata": {},
   "source": [
    "# DATA MANIPULATION AND EDA WITH PYTHON"
   ]
  },
  {
   "cell_type": "code",
   "execution_count": 35,
   "id": "7530c1d5-4df1-4fe1-b80f-ffb8eb801716",
   "metadata": {},
   "outputs": [],
   "source": [
    "#importing required libraries for analysis \n",
    "import pandas as pd \n",
    "import numpy as np\n",
    "import matplotlib.pyplot as plt \n",
    "import seaborn as sns \n",
    "from sqlalchemy import create_engine\n",
    "import urllib"
   ]
  },
  {
   "cell_type": "code",
   "execution_count": 36,
   "id": "4f7ea0d1-239a-47ce-b099-6a799413d8b3",
   "metadata": {},
   "outputs": [
    {
     "data": {
      "text/html": [
       "<div>\n",
       "<style scoped>\n",
       "    .dataframe tbody tr th:only-of-type {\n",
       "        vertical-align: middle;\n",
       "    }\n",
       "\n",
       "    .dataframe tbody tr th {\n",
       "        vertical-align: top;\n",
       "    }\n",
       "\n",
       "    .dataframe thead th {\n",
       "        text-align: right;\n",
       "    }\n",
       "</style>\n",
       "<table border=\"1\" class=\"dataframe\">\n",
       "  <thead>\n",
       "    <tr style=\"text-align: right;\">\n",
       "      <th></th>\n",
       "      <th>SalesOrderID</th>\n",
       "      <th>CustomerID</th>\n",
       "      <th>OrderDate</th>\n",
       "      <th>OrderQuantity</th>\n",
       "      <th>ProductID</th>\n",
       "      <th>UnitPrice</th>\n",
       "      <th>LineTotal</th>\n",
       "    </tr>\n",
       "  </thead>\n",
       "  <tbody>\n",
       "    <tr>\n",
       "      <th>0</th>\n",
       "      <td>43659</td>\n",
       "      <td>29825</td>\n",
       "      <td>31-05-2011</td>\n",
       "      <td>1</td>\n",
       "      <td>776</td>\n",
       "      <td>2024.994</td>\n",
       "      <td>2024.994</td>\n",
       "    </tr>\n",
       "    <tr>\n",
       "      <th>1</th>\n",
       "      <td>43659</td>\n",
       "      <td>29825</td>\n",
       "      <td>31-05-2011</td>\n",
       "      <td>3</td>\n",
       "      <td>777</td>\n",
       "      <td>2024.994</td>\n",
       "      <td>6074.982</td>\n",
       "    </tr>\n",
       "    <tr>\n",
       "      <th>2</th>\n",
       "      <td>43659</td>\n",
       "      <td>29825</td>\n",
       "      <td>31-05-2011</td>\n",
       "      <td>1</td>\n",
       "      <td>778</td>\n",
       "      <td>2024.994</td>\n",
       "      <td>2024.994</td>\n",
       "    </tr>\n",
       "    <tr>\n",
       "      <th>3</th>\n",
       "      <td>43659</td>\n",
       "      <td>29825</td>\n",
       "      <td>31-05-2011</td>\n",
       "      <td>1</td>\n",
       "      <td>771</td>\n",
       "      <td>2039.994</td>\n",
       "      <td>2039.994</td>\n",
       "    </tr>\n",
       "    <tr>\n",
       "      <th>4</th>\n",
       "      <td>43659</td>\n",
       "      <td>29825</td>\n",
       "      <td>31-05-2011</td>\n",
       "      <td>1</td>\n",
       "      <td>772</td>\n",
       "      <td>2039.994</td>\n",
       "      <td>2039.994</td>\n",
       "    </tr>\n",
       "  </tbody>\n",
       "</table>\n",
       "</div>"
      ],
      "text/plain": [
       "   SalesOrderID  CustomerID   OrderDate  OrderQuantity  ProductID  UnitPrice  \\\n",
       "0         43659       29825  31-05-2011              1        776   2024.994   \n",
       "1         43659       29825  31-05-2011              3        777   2024.994   \n",
       "2         43659       29825  31-05-2011              1        778   2024.994   \n",
       "3         43659       29825  31-05-2011              1        771   2039.994   \n",
       "4         43659       29825  31-05-2011              1        772   2039.994   \n",
       "\n",
       "   LineTotal  \n",
       "0   2024.994  \n",
       "1   6074.982  \n",
       "2   2024.994  \n",
       "3   2039.994  \n",
       "4   2039.994  "
      ]
     },
     "execution_count": 36,
     "metadata": {},
     "output_type": "execute_result"
    }
   ],
   "source": [
    "#reading the files into dataframe variables from csv files. \n",
    "orders_df = pd.read_csv(r\"C:\\Users\\Ravik\\Desktop\\adventure works project\\aw_orders.csv\")\n",
    "products_df = pd.read_csv(r\"C:\\Users\\Ravik\\Desktop\\adventure works project\\aw_products.csv\")\n",
    "customers_df = pd.read_csv(r\"C:\\Users\\Ravik\\Desktop\\adventure works project\\aw_customers.csv\")\n",
    "\n",
    "#Getting an idea of orders_df table about how the data looks like, using head() method. \n",
    "orders_df.head()"
   ]
  },
  {
   "cell_type": "code",
   "execution_count": 37,
   "id": "fd29a49f-e2e4-4cf4-affb-9f094d213517",
   "metadata": {},
   "outputs": [
    {
     "data": {
      "text/html": [
       "<div>\n",
       "<style scoped>\n",
       "    .dataframe tbody tr th:only-of-type {\n",
       "        vertical-align: middle;\n",
       "    }\n",
       "\n",
       "    .dataframe tbody tr th {\n",
       "        vertical-align: top;\n",
       "    }\n",
       "\n",
       "    .dataframe thead th {\n",
       "        text-align: right;\n",
       "    }\n",
       "</style>\n",
       "<table border=\"1\" class=\"dataframe\">\n",
       "  <thead>\n",
       "    <tr style=\"text-align: right;\">\n",
       "      <th></th>\n",
       "      <th>ProductID</th>\n",
       "      <th>ProductName</th>\n",
       "      <th>ProductNumber</th>\n",
       "      <th>CategoryName</th>\n",
       "      <th>SubcategoryName</th>\n",
       "      <th>ProductModel</th>\n",
       "      <th>ListPrice</th>\n",
       "    </tr>\n",
       "  </thead>\n",
       "  <tbody>\n",
       "    <tr>\n",
       "      <th>0</th>\n",
       "      <td>680</td>\n",
       "      <td>HL Road Frame - Black, 58</td>\n",
       "      <td>FR-R92B-58</td>\n",
       "      <td>Components</td>\n",
       "      <td>Road Frames</td>\n",
       "      <td>HL Road Frame</td>\n",
       "      <td>1431.50</td>\n",
       "    </tr>\n",
       "    <tr>\n",
       "      <th>1</th>\n",
       "      <td>706</td>\n",
       "      <td>HL Road Frame - Red, 58</td>\n",
       "      <td>FR-R92R-58</td>\n",
       "      <td>Components</td>\n",
       "      <td>Road Frames</td>\n",
       "      <td>HL Road Frame</td>\n",
       "      <td>1431.50</td>\n",
       "    </tr>\n",
       "    <tr>\n",
       "      <th>2</th>\n",
       "      <td>707</td>\n",
       "      <td>Sport-100 Helmet, Red</td>\n",
       "      <td>HL-U509-R</td>\n",
       "      <td>Accessories</td>\n",
       "      <td>Helmets</td>\n",
       "      <td>Sport-100</td>\n",
       "      <td>34.99</td>\n",
       "    </tr>\n",
       "    <tr>\n",
       "      <th>3</th>\n",
       "      <td>708</td>\n",
       "      <td>Sport-100 Helmet, Black</td>\n",
       "      <td>HL-U509</td>\n",
       "      <td>Accessories</td>\n",
       "      <td>Helmets</td>\n",
       "      <td>Sport-100</td>\n",
       "      <td>34.99</td>\n",
       "    </tr>\n",
       "    <tr>\n",
       "      <th>4</th>\n",
       "      <td>709</td>\n",
       "      <td>Mountain Bike Socks, M</td>\n",
       "      <td>SO-B909-M</td>\n",
       "      <td>Clothing</td>\n",
       "      <td>Socks</td>\n",
       "      <td>Mountain Bike Socks</td>\n",
       "      <td>9.50</td>\n",
       "    </tr>\n",
       "  </tbody>\n",
       "</table>\n",
       "</div>"
      ],
      "text/plain": [
       "   ProductID                ProductName ProductNumber CategoryName  \\\n",
       "0        680  HL Road Frame - Black, 58    FR-R92B-58   Components   \n",
       "1        706    HL Road Frame - Red, 58    FR-R92R-58   Components   \n",
       "2        707      Sport-100 Helmet, Red     HL-U509-R  Accessories   \n",
       "3        708    Sport-100 Helmet, Black       HL-U509  Accessories   \n",
       "4        709     Mountain Bike Socks, M     SO-B909-M     Clothing   \n",
       "\n",
       "  SubcategoryName         ProductModel  ListPrice  \n",
       "0     Road Frames        HL Road Frame    1431.50  \n",
       "1     Road Frames        HL Road Frame    1431.50  \n",
       "2         Helmets            Sport-100      34.99  \n",
       "3         Helmets            Sport-100      34.99  \n",
       "4           Socks  Mountain Bike Socks       9.50  "
      ]
     },
     "execution_count": 37,
     "metadata": {},
     "output_type": "execute_result"
    }
   ],
   "source": [
    "#Getting an idea of products_df table about how the data looks like, using head() method. \n",
    "products_df.head()"
   ]
  },
  {
   "cell_type": "code",
   "execution_count": 38,
   "id": "7f8d2d36-15b2-4b29-b724-b5f9dd45117a",
   "metadata": {},
   "outputs": [
    {
     "data": {
      "text/html": [
       "<div>\n",
       "<style scoped>\n",
       "    .dataframe tbody tr th:only-of-type {\n",
       "        vertical-align: middle;\n",
       "    }\n",
       "\n",
       "    .dataframe tbody tr th {\n",
       "        vertical-align: top;\n",
       "    }\n",
       "\n",
       "    .dataframe thead th {\n",
       "        text-align: right;\n",
       "    }\n",
       "</style>\n",
       "<table border=\"1\" class=\"dataframe\">\n",
       "  <thead>\n",
       "    <tr style=\"text-align: right;\">\n",
       "      <th></th>\n",
       "      <th>CustomerID</th>\n",
       "      <th>FullName</th>\n",
       "      <th>City</th>\n",
       "      <th>Country</th>\n",
       "    </tr>\n",
       "  </thead>\n",
       "  <tbody>\n",
       "    <tr>\n",
       "      <th>0</th>\n",
       "      <td>18504</td>\n",
       "      <td>Angel  Adams</td>\n",
       "      <td>Burlingame</td>\n",
       "      <td>United States</td>\n",
       "    </tr>\n",
       "    <tr>\n",
       "      <th>1</th>\n",
       "      <td>13280</td>\n",
       "      <td>Bailey  Adams</td>\n",
       "      <td>Kirkland</td>\n",
       "      <td>United States</td>\n",
       "    </tr>\n",
       "    <tr>\n",
       "      <th>2</th>\n",
       "      <td>18075</td>\n",
       "      <td>Courtney C Adams</td>\n",
       "      <td>Torrance</td>\n",
       "      <td>United States</td>\n",
       "    </tr>\n",
       "    <tr>\n",
       "      <th>3</th>\n",
       "      <td>25292</td>\n",
       "      <td>Eduardo A Adams</td>\n",
       "      <td>San Diego</td>\n",
       "      <td>United States</td>\n",
       "    </tr>\n",
       "    <tr>\n",
       "      <th>4</th>\n",
       "      <td>12154</td>\n",
       "      <td>Hailey M Adams</td>\n",
       "      <td>Westminster</td>\n",
       "      <td>Canada</td>\n",
       "    </tr>\n",
       "  </tbody>\n",
       "</table>\n",
       "</div>"
      ],
      "text/plain": [
       "   CustomerID          FullName         City        Country\n",
       "0       18504      Angel  Adams   Burlingame  United States\n",
       "1       13280     Bailey  Adams     Kirkland  United States\n",
       "2       18075  Courtney C Adams     Torrance  United States\n",
       "3       25292   Eduardo A Adams    San Diego  United States\n",
       "4       12154    Hailey M Adams  Westminster         Canada"
      ]
     },
     "execution_count": 38,
     "metadata": {},
     "output_type": "execute_result"
    }
   ],
   "source": [
    "#Getting an idea of customers_df table about how the data looks like, using head() method. \n",
    "customers_df.head()"
   ]
  },
  {
   "cell_type": "markdown",
   "id": "76a7afcd-9f4e-4542-9fda-b5115ebd4977",
   "metadata": {},
   "source": [
    "### Data Manipulation of customers_df dataframe"
   ]
  },
  {
   "cell_type": "code",
   "execution_count": 39,
   "id": "69597291-c8b1-4eca-a507-598ddb6fd4fe",
   "metadata": {},
   "outputs": [
    {
     "name": "stdout",
     "output_type": "stream",
     "text": [
      "(18508, 4)\n",
      "<class 'pandas.core.frame.DataFrame'>\n",
      "RangeIndex: 18508 entries, 0 to 18507\n",
      "Data columns (total 4 columns):\n",
      " #   Column      Non-Null Count  Dtype \n",
      "---  ------      --------------  ----- \n",
      " 0   CustomerID  18508 non-null  int64 \n",
      " 1   FullName    18508 non-null  object\n",
      " 2   City        18508 non-null  object\n",
      " 3   Country     18508 non-null  object\n",
      "dtypes: int64(1), object(3)\n",
      "memory usage: 578.5+ KB\n"
     ]
    }
   ],
   "source": [
    "#knowing the shape (count of rows, columns) and knowing the non-null count, column datatypes in dataframe of customers_df\n",
    "print(customers_df.shape)\n",
    "\n",
    "customers_df.info()"
   ]
  },
  {
   "cell_type": "code",
   "execution_count": 40,
   "id": "f31236e6-be21-4261-972a-3386d988cea6",
   "metadata": {},
   "outputs": [],
   "source": [
    "#fixing column names of customers_df dataframe by trimming white spaces and converting text into lower case. \n",
    "customers_df.columns = customers_df.columns.str.strip().str.lower() "
   ]
  },
  {
   "cell_type": "code",
   "execution_count": 41,
   "id": "d23f045c-9c26-4fde-a8f1-682c3cfefa8b",
   "metadata": {},
   "outputs": [],
   "source": [
    "#converting customerid's datatype from int to object. \n",
    "customers_df['customerid'] = customers_df['customerid'].astype(object)"
   ]
  },
  {
   "cell_type": "code",
   "execution_count": 42,
   "id": "3a0d6d1d-5de5-437f-8433-9df9fae31a22",
   "metadata": {},
   "outputs": [
    {
     "name": "stdout",
     "output_type": "stream",
     "text": [
      "<class 'pandas.core.frame.DataFrame'>\n",
      "RangeIndex: 18508 entries, 0 to 18507\n",
      "Data columns (total 4 columns):\n",
      " #   Column      Non-Null Count  Dtype \n",
      "---  ------      --------------  ----- \n",
      " 0   customerid  18508 non-null  object\n",
      " 1   fullname    18508 non-null  object\n",
      " 2   city        18508 non-null  object\n",
      " 3   country     18508 non-null  object\n",
      "dtypes: object(4)\n",
      "memory usage: 578.5+ KB\n"
     ]
    }
   ],
   "source": [
    "#checking if everything is fine or not. \n",
    "customers_df.info()"
   ]
  },
  {
   "cell_type": "code",
   "execution_count": 43,
   "id": "a748b8d8-9a55-4864-99fd-977036c38df0",
   "metadata": {},
   "outputs": [
    {
     "data": {
      "text/html": [
       "<div>\n",
       "<style scoped>\n",
       "    .dataframe tbody tr th:only-of-type {\n",
       "        vertical-align: middle;\n",
       "    }\n",
       "\n",
       "    .dataframe tbody tr th {\n",
       "        vertical-align: top;\n",
       "    }\n",
       "\n",
       "    .dataframe thead th {\n",
       "        text-align: right;\n",
       "    }\n",
       "</style>\n",
       "<table border=\"1\" class=\"dataframe\">\n",
       "  <thead>\n",
       "    <tr style=\"text-align: right;\">\n",
       "      <th></th>\n",
       "      <th>customerid</th>\n",
       "      <th>fullname</th>\n",
       "      <th>city</th>\n",
       "      <th>country</th>\n",
       "    </tr>\n",
       "  </thead>\n",
       "  <tbody>\n",
       "    <tr>\n",
       "      <th>0</th>\n",
       "      <td>18504</td>\n",
       "      <td>Angel  Adams</td>\n",
       "      <td>Burlingame</td>\n",
       "      <td>United States</td>\n",
       "    </tr>\n",
       "    <tr>\n",
       "      <th>1</th>\n",
       "      <td>13280</td>\n",
       "      <td>Bailey  Adams</td>\n",
       "      <td>Kirkland</td>\n",
       "      <td>United States</td>\n",
       "    </tr>\n",
       "    <tr>\n",
       "      <th>2</th>\n",
       "      <td>18075</td>\n",
       "      <td>Courtney C Adams</td>\n",
       "      <td>Torrance</td>\n",
       "      <td>United States</td>\n",
       "    </tr>\n",
       "    <tr>\n",
       "      <th>3</th>\n",
       "      <td>25292</td>\n",
       "      <td>Eduardo A Adams</td>\n",
       "      <td>San Diego</td>\n",
       "      <td>United States</td>\n",
       "    </tr>\n",
       "    <tr>\n",
       "      <th>4</th>\n",
       "      <td>12154</td>\n",
       "      <td>Hailey M Adams</td>\n",
       "      <td>Westminster</td>\n",
       "      <td>Canada</td>\n",
       "    </tr>\n",
       "  </tbody>\n",
       "</table>\n",
       "</div>"
      ],
      "text/plain": [
       "  customerid          fullname         city        country\n",
       "0      18504      Angel  Adams   Burlingame  United States\n",
       "1      13280     Bailey  Adams     Kirkland  United States\n",
       "2      18075  Courtney C Adams     Torrance  United States\n",
       "3      25292   Eduardo A Adams    San Diego  United States\n",
       "4      12154    Hailey M Adams  Westminster         Canada"
      ]
     },
     "execution_count": 43,
     "metadata": {},
     "output_type": "execute_result"
    }
   ],
   "source": [
    "customers_df.head()"
   ]
  },
  {
   "cell_type": "code",
   "execution_count": 44,
   "id": "e67e2d4a-fc4d-4bad-bf87-4cc535d491ba",
   "metadata": {},
   "outputs": [
    {
     "data": {
      "text/plain": [
       "np.int64(24)"
      ]
     },
     "execution_count": 44,
     "metadata": {},
     "output_type": "execute_result"
    }
   ],
   "source": [
    "customers_df['customerid'].duplicated().sum()"
   ]
  },
  {
   "cell_type": "code",
   "execution_count": 45,
   "id": "f24300b7-a4dc-46fa-be6b-e6399d7580d7",
   "metadata": {},
   "outputs": [
    {
     "data": {
      "text/plain": [
       "np.int64(0)"
      ]
     },
     "execution_count": 45,
     "metadata": {},
     "output_type": "execute_result"
    }
   ],
   "source": [
    "customers_df.drop_duplicates(subset='customerid', inplace=True)\n",
    "\n",
    "customers_df['customerid'].duplicated().sum()"
   ]
  },
  {
   "cell_type": "code",
   "execution_count": 46,
   "id": "571f248c-b4e0-48eb-8694-85864ea5c497",
   "metadata": {},
   "outputs": [
    {
     "name": "stdout",
     "output_type": "stream",
     "text": [
      "<class 'pandas.core.frame.DataFrame'>\n",
      "Index: 18484 entries, 0 to 18507\n",
      "Data columns (total 4 columns):\n",
      " #   Column      Non-Null Count  Dtype \n",
      "---  ------      --------------  ----- \n",
      " 0   customerid  18484 non-null  object\n",
      " 1   fullname    18484 non-null  object\n",
      " 2   city        18484 non-null  object\n",
      " 3   country     18484 non-null  object\n",
      "dtypes: object(4)\n",
      "memory usage: 722.0+ KB\n"
     ]
    }
   ],
   "source": [
    "customers_df.info()"
   ]
  },
  {
   "cell_type": "markdown",
   "id": "ee0ceec2-9a52-4cb2-b632-af79f16df6e6",
   "metadata": {},
   "source": [
    "### Data Manipulation of pproducts_df dataframe"
   ]
  },
  {
   "cell_type": "code",
   "execution_count": 47,
   "id": "ff2b23e3-b059-4ced-90eb-2a181921a8e8",
   "metadata": {},
   "outputs": [
    {
     "name": "stdout",
     "output_type": "stream",
     "text": [
      "(295, 7)\n",
      "<class 'pandas.core.frame.DataFrame'>\n",
      "RangeIndex: 295 entries, 0 to 294\n",
      "Data columns (total 7 columns):\n",
      " #   Column           Non-Null Count  Dtype  \n",
      "---  ------           --------------  -----  \n",
      " 0   ProductID        295 non-null    int64  \n",
      " 1   ProductName      295 non-null    object \n",
      " 2   ProductNumber    295 non-null    object \n",
      " 3   CategoryName     295 non-null    object \n",
      " 4   SubcategoryName  295 non-null    object \n",
      " 5   ProductModel     295 non-null    object \n",
      " 6   ListPrice        295 non-null    float64\n",
      "dtypes: float64(1), int64(1), object(5)\n",
      "memory usage: 16.3+ KB\n"
     ]
    }
   ],
   "source": [
    "#knowing the shape (count of rows, columns) and knowing the non-null count, column datatypes in dataframe of products_df\n",
    "print(products_df.shape)\n",
    "products_df.info()"
   ]
  },
  {
   "cell_type": "code",
   "execution_count": 48,
   "id": "6c3e4b69-f833-4c34-a782-4df4ff45c56a",
   "metadata": {},
   "outputs": [
    {
     "data": {
      "text/plain": [
       "Index(['productid', 'productname', 'productnumber', 'categoryname',\n",
       "       'subcategoryname', 'productmodel', 'listprice'],\n",
       "      dtype='object')"
      ]
     },
     "execution_count": 48,
     "metadata": {},
     "output_type": "execute_result"
    }
   ],
   "source": [
    "#fixing column names of products_df dataframe by trimming white spaces and converting text into lower case. \n",
    "products_df.columns = products_df.columns.str.strip().str.lower()\n",
    "products_df.columns"
   ]
  },
  {
   "cell_type": "code",
   "execution_count": 49,
   "id": "7ce70b6f-f94b-47df-964c-c286df8d046c",
   "metadata": {},
   "outputs": [
    {
     "name": "stdout",
     "output_type": "stream",
     "text": [
      "<class 'pandas.core.frame.DataFrame'>\n",
      "RangeIndex: 295 entries, 0 to 294\n",
      "Data columns (total 7 columns):\n",
      " #   Column           Non-Null Count  Dtype  \n",
      "---  ------           --------------  -----  \n",
      " 0   productid        295 non-null    object \n",
      " 1   productname      295 non-null    object \n",
      " 2   productnumber    295 non-null    object \n",
      " 3   categoryname     295 non-null    object \n",
      " 4   subcategoryname  295 non-null    object \n",
      " 5   productmodel     295 non-null    object \n",
      " 6   listprice        295 non-null    float64\n",
      "dtypes: float64(1), object(6)\n",
      "memory usage: 16.3+ KB\n"
     ]
    }
   ],
   "source": [
    "#converting productid column to object datatype which was int earlier. \n",
    "products_df['productid'] = products_df['productid'].astype(object)\n",
    "products_df.info()"
   ]
  },
  {
   "cell_type": "code",
   "execution_count": 50,
   "id": "dee8c9b7-cca9-4bb3-9ab5-d933493b96c9",
   "metadata": {},
   "outputs": [
    {
     "data": {
      "text/plain": [
       "np.int64(0)"
      ]
     },
     "execution_count": 50,
     "metadata": {},
     "output_type": "execute_result"
    }
   ],
   "source": [
    "#checking for duplicates in dataframe but unfortunately, found none. \n",
    "products_df.duplicated().sum()"
   ]
  },
  {
   "cell_type": "code",
   "execution_count": 51,
   "id": "3b072935-7bca-452a-b64c-81e3d9c8c2c7",
   "metadata": {},
   "outputs": [
    {
     "data": {
      "text/plain": [
       "np.int64(0)"
      ]
     },
     "execution_count": 51,
     "metadata": {},
     "output_type": "execute_result"
    }
   ],
   "source": [
    "products_df['productid'].duplicated().sum()"
   ]
  },
  {
   "cell_type": "markdown",
   "id": "3eabbcfa-6788-4f09-bba8-d3215ca0d56e",
   "metadata": {},
   "source": [
    "### Data Manipulation of orders_df dataframe"
   ]
  },
  {
   "cell_type": "code",
   "execution_count": 52,
   "id": "0cae92c6-550c-49a8-b1dd-a327e4ce0240",
   "metadata": {},
   "outputs": [
    {
     "name": "stdout",
     "output_type": "stream",
     "text": [
      "(121317, 7)\n",
      "<class 'pandas.core.frame.DataFrame'>\n",
      "RangeIndex: 121317 entries, 0 to 121316\n",
      "Data columns (total 7 columns):\n",
      " #   Column         Non-Null Count   Dtype  \n",
      "---  ------         --------------   -----  \n",
      " 0   SalesOrderID   121317 non-null  int64  \n",
      " 1   CustomerID     121317 non-null  int64  \n",
      " 2   OrderDate      121317 non-null  object \n",
      " 3   OrderQuantity  121317 non-null  int64  \n",
      " 4   ProductID      121317 non-null  int64  \n",
      " 5   UnitPrice      121317 non-null  float64\n",
      " 6   LineTotal      121317 non-null  float64\n",
      "dtypes: float64(2), int64(4), object(1)\n",
      "memory usage: 6.5+ MB\n"
     ]
    }
   ],
   "source": [
    "#knowing the shape (count of rows, columns) and knowing the non-null count, column datatypes in dataframe of orders_df\n",
    "\n",
    "print(orders_df.shape)\n",
    "orders_df.info()"
   ]
  },
  {
   "cell_type": "code",
   "execution_count": 53,
   "id": "e134a3a9-084e-456e-9f98-21764e0f7546",
   "metadata": {},
   "outputs": [
    {
     "data": {
      "text/plain": [
       "Index(['salesorderid', 'customerid', 'orderdate', 'orderquantity', 'productid',\n",
       "       'unitprice', 'linetotal'],\n",
       "      dtype='object')"
      ]
     },
     "execution_count": 53,
     "metadata": {},
     "output_type": "execute_result"
    }
   ],
   "source": [
    "#fixing column names of orders_df dataframe by trimming white spaces and converting text into lower case. \n",
    "\n",
    "orders_df.columns = orders_df.columns.str.strip().str.lower()\n",
    "orders_df.columns"
   ]
  },
  {
   "cell_type": "code",
   "execution_count": 54,
   "id": "2657cbe5-ecf5-4252-a3c3-4284a30e5bc5",
   "metadata": {},
   "outputs": [
    {
     "name": "stdout",
     "output_type": "stream",
     "text": [
      "<class 'pandas.core.frame.DataFrame'>\n",
      "RangeIndex: 121317 entries, 0 to 121316\n",
      "Data columns (total 7 columns):\n",
      " #   Column         Non-Null Count   Dtype  \n",
      "---  ------         --------------   -----  \n",
      " 0   salesorderid   121317 non-null  object \n",
      " 1   customerid     121317 non-null  object \n",
      " 2   orderdate      121317 non-null  object \n",
      " 3   orderquantity  121317 non-null  int64  \n",
      " 4   productid      121317 non-null  object \n",
      " 5   unitprice      121317 non-null  float64\n",
      " 6   linetotal      121317 non-null  float64\n",
      "dtypes: float64(2), int64(1), object(4)\n",
      "memory usage: 6.5+ MB\n"
     ]
    }
   ],
   "source": [
    "#fixing datatypes of below 3 columns which are supposed to be of an object type. \n",
    "for i in ['salesorderid', 'customerid', 'productid']:\n",
    "    orders_df[i] = orders_df[i].astype(object)\n",
    "\n",
    "orders_df.info()"
   ]
  },
  {
   "cell_type": "code",
   "execution_count": 55,
   "id": "f33efe4d-b930-4e10-afbf-3bf47bdde7fb",
   "metadata": {},
   "outputs": [
    {
     "name": "stdout",
     "output_type": "stream",
     "text": [
      "<class 'pandas.core.frame.DataFrame'>\n",
      "RangeIndex: 121317 entries, 0 to 121316\n",
      "Data columns (total 7 columns):\n",
      " #   Column         Non-Null Count   Dtype         \n",
      "---  ------         --------------   -----         \n",
      " 0   salesorderid   121317 non-null  object        \n",
      " 1   customerid     121317 non-null  object        \n",
      " 2   orderdate      121317 non-null  datetime64[ns]\n",
      " 3   orderquantity  121317 non-null  int64         \n",
      " 4   productid      121317 non-null  object        \n",
      " 5   unitprice      121317 non-null  float64       \n",
      " 6   linetotal      121317 non-null  float64       \n",
      "dtypes: datetime64[ns](1), float64(2), int64(1), object(3)\n",
      "memory usage: 6.5+ MB\n"
     ]
    }
   ],
   "source": [
    "#fixing datatype of orderdate column to datetime datatype\n",
    "orders_df['orderdate'] = pd.to_datetime(orders_df['orderdate'], format= '%d-%m-%Y')\n",
    "orders_df.info()"
   ]
  },
  {
   "cell_type": "code",
   "execution_count": 56,
   "id": "b9b91f8d-f98f-467d-8645-7007155fc41a",
   "metadata": {},
   "outputs": [
    {
     "data": {
      "text/html": [
       "<div>\n",
       "<style scoped>\n",
       "    .dataframe tbody tr th:only-of-type {\n",
       "        vertical-align: middle;\n",
       "    }\n",
       "\n",
       "    .dataframe tbody tr th {\n",
       "        vertical-align: top;\n",
       "    }\n",
       "\n",
       "    .dataframe thead th {\n",
       "        text-align: right;\n",
       "    }\n",
       "</style>\n",
       "<table border=\"1\" class=\"dataframe\">\n",
       "  <thead>\n",
       "    <tr style=\"text-align: right;\">\n",
       "      <th></th>\n",
       "      <th>salesorderid</th>\n",
       "      <th>customerid</th>\n",
       "      <th>orderdate</th>\n",
       "      <th>orderquantity</th>\n",
       "      <th>productid</th>\n",
       "      <th>unitprice</th>\n",
       "      <th>linetotal</th>\n",
       "    </tr>\n",
       "  </thead>\n",
       "  <tbody>\n",
       "    <tr>\n",
       "      <th>0</th>\n",
       "      <td>43659</td>\n",
       "      <td>29825</td>\n",
       "      <td>2011-05-31</td>\n",
       "      <td>1</td>\n",
       "      <td>776</td>\n",
       "      <td>2024.994</td>\n",
       "      <td>2024.994</td>\n",
       "    </tr>\n",
       "    <tr>\n",
       "      <th>1</th>\n",
       "      <td>43659</td>\n",
       "      <td>29825</td>\n",
       "      <td>2011-05-31</td>\n",
       "      <td>3</td>\n",
       "      <td>777</td>\n",
       "      <td>2024.994</td>\n",
       "      <td>6074.982</td>\n",
       "    </tr>\n",
       "    <tr>\n",
       "      <th>2</th>\n",
       "      <td>43659</td>\n",
       "      <td>29825</td>\n",
       "      <td>2011-05-31</td>\n",
       "      <td>1</td>\n",
       "      <td>778</td>\n",
       "      <td>2024.994</td>\n",
       "      <td>2024.994</td>\n",
       "    </tr>\n",
       "    <tr>\n",
       "      <th>3</th>\n",
       "      <td>43659</td>\n",
       "      <td>29825</td>\n",
       "      <td>2011-05-31</td>\n",
       "      <td>1</td>\n",
       "      <td>771</td>\n",
       "      <td>2039.994</td>\n",
       "      <td>2039.994</td>\n",
       "    </tr>\n",
       "    <tr>\n",
       "      <th>4</th>\n",
       "      <td>43659</td>\n",
       "      <td>29825</td>\n",
       "      <td>2011-05-31</td>\n",
       "      <td>1</td>\n",
       "      <td>772</td>\n",
       "      <td>2039.994</td>\n",
       "      <td>2039.994</td>\n",
       "    </tr>\n",
       "  </tbody>\n",
       "</table>\n",
       "</div>"
      ],
      "text/plain": [
       "  salesorderid customerid  orderdate  orderquantity productid  unitprice  \\\n",
       "0        43659      29825 2011-05-31              1       776   2024.994   \n",
       "1        43659      29825 2011-05-31              3       777   2024.994   \n",
       "2        43659      29825 2011-05-31              1       778   2024.994   \n",
       "3        43659      29825 2011-05-31              1       771   2039.994   \n",
       "4        43659      29825 2011-05-31              1       772   2039.994   \n",
       "\n",
       "   linetotal  \n",
       "0   2024.994  \n",
       "1   6074.982  \n",
       "2   2024.994  \n",
       "3   2039.994  \n",
       "4   2039.994  "
      ]
     },
     "execution_count": 56,
     "metadata": {},
     "output_type": "execute_result"
    }
   ],
   "source": [
    "#checking the cleaning dataframe\n",
    "orders_df.head()"
   ]
  },
  {
   "cell_type": "code",
   "execution_count": 57,
   "id": "57b53c13-e3a3-426d-bb8f-3b8b81a3204a",
   "metadata": {},
   "outputs": [
    {
     "data": {
      "text/plain": [
       "np.int64(0)"
      ]
     },
     "execution_count": 57,
     "metadata": {},
     "output_type": "execute_result"
    }
   ],
   "source": [
    "#checking if there are any duplicates. Found none. \n",
    "orders_df.duplicated().sum()"
   ]
  },
  {
   "cell_type": "code",
   "execution_count": 58,
   "id": "ed7de896-58a1-4a8f-bea7-93b55f04f680",
   "metadata": {},
   "outputs": [
    {
     "data": {
      "text/plain": [
       "(121317, 7)"
      ]
     },
     "execution_count": 58,
     "metadata": {},
     "output_type": "execute_result"
    }
   ],
   "source": [
    "orders_df.shape"
   ]
  },
  {
   "cell_type": "code",
   "execution_count": 59,
   "id": "f1ed613a-b609-4e1c-b015-caeacfa3d88b",
   "metadata": {},
   "outputs": [
    {
     "data": {
      "text/plain": [
       "(60398, 7)"
      ]
     },
     "execution_count": 59,
     "metadata": {},
     "output_type": "execute_result"
    }
   ],
   "source": [
    "# Keep only those customers whose customerid exists in orders_df\n",
    "orders_df = orders_df[orders_df['customerid'].isin(customers_df['customerid'])]\n",
    "\n",
    "orders_df.shape"
   ]
  },
  {
   "cell_type": "markdown",
   "id": "909163f3-3173-48d6-a8ea-38f9918ba329",
   "metadata": {},
   "source": [
    "### Exploratory Data Analysis"
   ]
  },
  {
   "cell_type": "code",
   "execution_count": 60,
   "id": "85c24111-a198-48f3-a7bc-04b9b7d308f2",
   "metadata": {},
   "outputs": [
    {
     "name": "stdout",
     "output_type": "stream",
     "text": [
      "orders_df shape is :  (60398, 7)\n",
      "products_df shape is :  (295, 7)\n",
      "customers_df shape is :  (18484, 4)\n"
     ]
    }
   ],
   "source": [
    "#printing the shapes of three dataframes. \n",
    "print(\"orders_df shape is : \", orders_df.shape)\n",
    "print(\"products_df shape is : \", products_df.shape)\n",
    "print(\"customers_df shape is : \", customers_df.shape)"
   ]
  },
  {
   "cell_type": "code",
   "execution_count": 61,
   "id": "71190338-6535-4ff4-a106-6524a861d0f9",
   "metadata": {},
   "outputs": [],
   "source": [
    "#Saving these cleaned dataframes as csv files \n",
    "orders_df.to_csv(r'C:\\Users\\Ravik\\Desktop\\adventure works project\\orders.csv', index=False)\n",
    "products_df.to_csv(r'C:\\Users\\Ravik\\Desktop\\adventure works project\\products.csv', index=False)\n",
    "customers_df.to_csv(r'C:\\Users\\Ravik\\Desktop\\adventure works project\\customers.csv', index=False)"
   ]
  },
  {
   "cell_type": "code",
   "execution_count": 62,
   "id": "7b4c9400-83c0-44b2-920d-4652568d4de7",
   "metadata": {},
   "outputs": [
    {
     "data": {
      "text/html": [
       "<div>\n",
       "<style scoped>\n",
       "    .dataframe tbody tr th:only-of-type {\n",
       "        vertical-align: middle;\n",
       "    }\n",
       "\n",
       "    .dataframe tbody tr th {\n",
       "        vertical-align: top;\n",
       "    }\n",
       "\n",
       "    .dataframe thead th {\n",
       "        text-align: right;\n",
       "    }\n",
       "</style>\n",
       "<table border=\"1\" class=\"dataframe\">\n",
       "  <thead>\n",
       "    <tr style=\"text-align: right;\">\n",
       "      <th></th>\n",
       "      <th>salesorderid</th>\n",
       "      <th>customerid</th>\n",
       "      <th>orderdate</th>\n",
       "      <th>orderquantity</th>\n",
       "      <th>productid</th>\n",
       "      <th>unitprice</th>\n",
       "      <th>linetotal</th>\n",
       "      <th>productname</th>\n",
       "      <th>productnumber</th>\n",
       "      <th>categoryname</th>\n",
       "      <th>subcategoryname</th>\n",
       "      <th>productmodel</th>\n",
       "      <th>listprice</th>\n",
       "    </tr>\n",
       "  </thead>\n",
       "  <tbody>\n",
       "    <tr>\n",
       "      <th>0</th>\n",
       "      <td>43697</td>\n",
       "      <td>21768</td>\n",
       "      <td>2011-05-31</td>\n",
       "      <td>1</td>\n",
       "      <td>749</td>\n",
       "      <td>3578.2700</td>\n",
       "      <td>3578.2700</td>\n",
       "      <td>Road-150 Red, 62</td>\n",
       "      <td>BK-R93R-62</td>\n",
       "      <td>Bikes</td>\n",
       "      <td>Road Bikes</td>\n",
       "      <td>Road-150</td>\n",
       "      <td>3578.27</td>\n",
       "    </tr>\n",
       "    <tr>\n",
       "      <th>1</th>\n",
       "      <td>43698</td>\n",
       "      <td>28389</td>\n",
       "      <td>2011-05-31</td>\n",
       "      <td>1</td>\n",
       "      <td>773</td>\n",
       "      <td>3399.9900</td>\n",
       "      <td>3399.9900</td>\n",
       "      <td>Mountain-100 Silver, 44</td>\n",
       "      <td>BK-M82S-44</td>\n",
       "      <td>Bikes</td>\n",
       "      <td>Mountain Bikes</td>\n",
       "      <td>Mountain-100</td>\n",
       "      <td>3399.99</td>\n",
       "    </tr>\n",
       "    <tr>\n",
       "      <th>2</th>\n",
       "      <td>43699</td>\n",
       "      <td>25863</td>\n",
       "      <td>2011-05-31</td>\n",
       "      <td>1</td>\n",
       "      <td>773</td>\n",
       "      <td>3399.9900</td>\n",
       "      <td>3399.9900</td>\n",
       "      <td>Mountain-100 Silver, 44</td>\n",
       "      <td>BK-M82S-44</td>\n",
       "      <td>Bikes</td>\n",
       "      <td>Mountain Bikes</td>\n",
       "      <td>Mountain-100</td>\n",
       "      <td>3399.99</td>\n",
       "    </tr>\n",
       "    <tr>\n",
       "      <th>3</th>\n",
       "      <td>43700</td>\n",
       "      <td>14501</td>\n",
       "      <td>2011-05-31</td>\n",
       "      <td>1</td>\n",
       "      <td>767</td>\n",
       "      <td>699.0982</td>\n",
       "      <td>699.0982</td>\n",
       "      <td>Road-650 Black, 62</td>\n",
       "      <td>BK-R50B-62</td>\n",
       "      <td>Bikes</td>\n",
       "      <td>Road Bikes</td>\n",
       "      <td>Road-650</td>\n",
       "      <td>782.99</td>\n",
       "    </tr>\n",
       "    <tr>\n",
       "      <th>4</th>\n",
       "      <td>43701</td>\n",
       "      <td>11003</td>\n",
       "      <td>2011-05-31</td>\n",
       "      <td>1</td>\n",
       "      <td>773</td>\n",
       "      <td>3399.9900</td>\n",
       "      <td>3399.9900</td>\n",
       "      <td>Mountain-100 Silver, 44</td>\n",
       "      <td>BK-M82S-44</td>\n",
       "      <td>Bikes</td>\n",
       "      <td>Mountain Bikes</td>\n",
       "      <td>Mountain-100</td>\n",
       "      <td>3399.99</td>\n",
       "    </tr>\n",
       "  </tbody>\n",
       "</table>\n",
       "</div>"
      ],
      "text/plain": [
       "  salesorderid customerid  orderdate  orderquantity productid  unitprice  \\\n",
       "0        43697      21768 2011-05-31              1       749  3578.2700   \n",
       "1        43698      28389 2011-05-31              1       773  3399.9900   \n",
       "2        43699      25863 2011-05-31              1       773  3399.9900   \n",
       "3        43700      14501 2011-05-31              1       767   699.0982   \n",
       "4        43701      11003 2011-05-31              1       773  3399.9900   \n",
       "\n",
       "   linetotal              productname productnumber categoryname  \\\n",
       "0  3578.2700         Road-150 Red, 62    BK-R93R-62        Bikes   \n",
       "1  3399.9900  Mountain-100 Silver, 44    BK-M82S-44        Bikes   \n",
       "2  3399.9900  Mountain-100 Silver, 44    BK-M82S-44        Bikes   \n",
       "3   699.0982       Road-650 Black, 62    BK-R50B-62        Bikes   \n",
       "4  3399.9900  Mountain-100 Silver, 44    BK-M82S-44        Bikes   \n",
       "\n",
       "  subcategoryname  productmodel  listprice  \n",
       "0      Road Bikes      Road-150    3578.27  \n",
       "1  Mountain Bikes  Mountain-100    3399.99  \n",
       "2  Mountain Bikes  Mountain-100    3399.99  \n",
       "3      Road Bikes      Road-650     782.99  \n",
       "4  Mountain Bikes  Mountain-100    3399.99  "
      ]
     },
     "execution_count": 62,
     "metadata": {},
     "output_type": "execute_result"
    }
   ],
   "source": [
    "#want to create a Main Dataframe named df by merging all the three dataframes using common columns\n",
    "#Merging orders_df and products_df based on productid column using left join and saving the output dataframe to df. \n",
    "df = pd.merge(left= orders_df, right= products_df, on= 'productid', how= 'left')\n",
    "df.head()"
   ]
  },
  {
   "cell_type": "code",
   "execution_count": 63,
   "id": "5d34db9a-138e-4f3c-92a1-a2bd4f2a6756",
   "metadata": {},
   "outputs": [
    {
     "data": {
      "text/html": [
       "<div>\n",
       "<style scoped>\n",
       "    .dataframe tbody tr th:only-of-type {\n",
       "        vertical-align: middle;\n",
       "    }\n",
       "\n",
       "    .dataframe tbody tr th {\n",
       "        vertical-align: top;\n",
       "    }\n",
       "\n",
       "    .dataframe thead th {\n",
       "        text-align: right;\n",
       "    }\n",
       "</style>\n",
       "<table border=\"1\" class=\"dataframe\">\n",
       "  <thead>\n",
       "    <tr style=\"text-align: right;\">\n",
       "      <th></th>\n",
       "      <th>salesorderid</th>\n",
       "      <th>customerid</th>\n",
       "      <th>orderdate</th>\n",
       "      <th>orderquantity</th>\n",
       "      <th>productid</th>\n",
       "      <th>unitprice</th>\n",
       "      <th>linetotal</th>\n",
       "      <th>productname</th>\n",
       "      <th>productnumber</th>\n",
       "      <th>categoryname</th>\n",
       "      <th>subcategoryname</th>\n",
       "      <th>productmodel</th>\n",
       "      <th>listprice</th>\n",
       "      <th>fullname</th>\n",
       "      <th>city</th>\n",
       "      <th>country</th>\n",
       "    </tr>\n",
       "  </thead>\n",
       "  <tbody>\n",
       "    <tr>\n",
       "      <th>0</th>\n",
       "      <td>43697</td>\n",
       "      <td>21768</td>\n",
       "      <td>2011-05-31</td>\n",
       "      <td>1</td>\n",
       "      <td>749</td>\n",
       "      <td>3578.2700</td>\n",
       "      <td>3578.2700</td>\n",
       "      <td>Road-150 Red, 62</td>\n",
       "      <td>BK-R93R-62</td>\n",
       "      <td>Bikes</td>\n",
       "      <td>Road Bikes</td>\n",
       "      <td>Road-150</td>\n",
       "      <td>3578.27</td>\n",
       "      <td>Cole A Watson</td>\n",
       "      <td>Metchosin</td>\n",
       "      <td>Canada</td>\n",
       "    </tr>\n",
       "    <tr>\n",
       "      <th>1</th>\n",
       "      <td>43698</td>\n",
       "      <td>28389</td>\n",
       "      <td>2011-05-31</td>\n",
       "      <td>1</td>\n",
       "      <td>773</td>\n",
       "      <td>3399.9900</td>\n",
       "      <td>3399.9900</td>\n",
       "      <td>Mountain-100 Silver, 44</td>\n",
       "      <td>BK-M82S-44</td>\n",
       "      <td>Bikes</td>\n",
       "      <td>Mountain Bikes</td>\n",
       "      <td>Mountain-100</td>\n",
       "      <td>3399.99</td>\n",
       "      <td>Rachael M Martinez</td>\n",
       "      <td>Pantin</td>\n",
       "      <td>France</td>\n",
       "    </tr>\n",
       "    <tr>\n",
       "      <th>2</th>\n",
       "      <td>43699</td>\n",
       "      <td>25863</td>\n",
       "      <td>2011-05-31</td>\n",
       "      <td>1</td>\n",
       "      <td>773</td>\n",
       "      <td>3399.9900</td>\n",
       "      <td>3399.9900</td>\n",
       "      <td>Mountain-100 Silver, 44</td>\n",
       "      <td>BK-M82S-44</td>\n",
       "      <td>Bikes</td>\n",
       "      <td>Mountain Bikes</td>\n",
       "      <td>Mountain-100</td>\n",
       "      <td>3399.99</td>\n",
       "      <td>Sydney S Wright</td>\n",
       "      <td>Lebanon</td>\n",
       "      <td>United States</td>\n",
       "    </tr>\n",
       "    <tr>\n",
       "      <th>3</th>\n",
       "      <td>43700</td>\n",
       "      <td>14501</td>\n",
       "      <td>2011-05-31</td>\n",
       "      <td>1</td>\n",
       "      <td>767</td>\n",
       "      <td>699.0982</td>\n",
       "      <td>699.0982</td>\n",
       "      <td>Road-650 Black, 62</td>\n",
       "      <td>BK-R50B-62</td>\n",
       "      <td>Bikes</td>\n",
       "      <td>Road Bikes</td>\n",
       "      <td>Road-650</td>\n",
       "      <td>782.99</td>\n",
       "      <td>Ruben  Prasad</td>\n",
       "      <td>Beverly Hills</td>\n",
       "      <td>United States</td>\n",
       "    </tr>\n",
       "    <tr>\n",
       "      <th>4</th>\n",
       "      <td>43701</td>\n",
       "      <td>11003</td>\n",
       "      <td>2011-05-31</td>\n",
       "      <td>1</td>\n",
       "      <td>773</td>\n",
       "      <td>3399.9900</td>\n",
       "      <td>3399.9900</td>\n",
       "      <td>Mountain-100 Silver, 44</td>\n",
       "      <td>BK-M82S-44</td>\n",
       "      <td>Bikes</td>\n",
       "      <td>Mountain Bikes</td>\n",
       "      <td>Mountain-100</td>\n",
       "      <td>3399.99</td>\n",
       "      <td>Christy  Zhu</td>\n",
       "      <td>North Ryde</td>\n",
       "      <td>Australia</td>\n",
       "    </tr>\n",
       "  </tbody>\n",
       "</table>\n",
       "</div>"
      ],
      "text/plain": [
       "  salesorderid customerid  orderdate  orderquantity productid  unitprice  \\\n",
       "0        43697      21768 2011-05-31              1       749  3578.2700   \n",
       "1        43698      28389 2011-05-31              1       773  3399.9900   \n",
       "2        43699      25863 2011-05-31              1       773  3399.9900   \n",
       "3        43700      14501 2011-05-31              1       767   699.0982   \n",
       "4        43701      11003 2011-05-31              1       773  3399.9900   \n",
       "\n",
       "   linetotal              productname productnumber categoryname  \\\n",
       "0  3578.2700         Road-150 Red, 62    BK-R93R-62        Bikes   \n",
       "1  3399.9900  Mountain-100 Silver, 44    BK-M82S-44        Bikes   \n",
       "2  3399.9900  Mountain-100 Silver, 44    BK-M82S-44        Bikes   \n",
       "3   699.0982       Road-650 Black, 62    BK-R50B-62        Bikes   \n",
       "4  3399.9900  Mountain-100 Silver, 44    BK-M82S-44        Bikes   \n",
       "\n",
       "  subcategoryname  productmodel  listprice            fullname           city  \\\n",
       "0      Road Bikes      Road-150    3578.27       Cole A Watson      Metchosin   \n",
       "1  Mountain Bikes  Mountain-100    3399.99  Rachael M Martinez         Pantin   \n",
       "2  Mountain Bikes  Mountain-100    3399.99     Sydney S Wright        Lebanon   \n",
       "3      Road Bikes      Road-650     782.99       Ruben  Prasad  Beverly Hills   \n",
       "4  Mountain Bikes  Mountain-100    3399.99        Christy  Zhu     North Ryde   \n",
       "\n",
       "         country  \n",
       "0         Canada  \n",
       "1         France  \n",
       "2  United States  \n",
       "3  United States  \n",
       "4      Australia  "
      ]
     },
     "execution_count": 63,
     "metadata": {},
     "output_type": "execute_result"
    }
   ],
   "source": [
    "#Merging df and customers_df based on customerid column and saving the output to df itself.\n",
    "df = pd.merge(df, customers_df, on= 'customerid', how= 'left')\n",
    "df.head()"
   ]
  },
  {
   "cell_type": "code",
   "execution_count": 64,
   "id": "a78defab-e7ac-4bf1-a9c8-31d2a57b96ba",
   "metadata": {},
   "outputs": [
    {
     "name": "stdout",
     "output_type": "stream",
     "text": [
      "<class 'pandas.core.frame.DataFrame'>\n",
      "RangeIndex: 60398 entries, 0 to 60397\n",
      "Data columns (total 16 columns):\n",
      " #   Column           Non-Null Count  Dtype         \n",
      "---  ------           --------------  -----         \n",
      " 0   salesorderid     60398 non-null  object        \n",
      " 1   customerid       60398 non-null  object        \n",
      " 2   orderdate        60398 non-null  datetime64[ns]\n",
      " 3   orderquantity    60398 non-null  int64         \n",
      " 4   productid        60398 non-null  object        \n",
      " 5   unitprice        60398 non-null  float64       \n",
      " 6   linetotal        60398 non-null  float64       \n",
      " 7   productname      60398 non-null  object        \n",
      " 8   productnumber    60398 non-null  object        \n",
      " 9   categoryname     60398 non-null  object        \n",
      " 10  subcategoryname  60398 non-null  object        \n",
      " 11  productmodel     60398 non-null  object        \n",
      " 12  listprice        60398 non-null  float64       \n",
      " 13  fullname         60398 non-null  object        \n",
      " 14  city             60398 non-null  object        \n",
      " 15  country          60398 non-null  object        \n",
      "dtypes: datetime64[ns](1), float64(3), int64(1), object(11)\n",
      "memory usage: 7.4+ MB\n"
     ]
    }
   ],
   "source": [
    "#Now I got a single dataframe (combination of three dataframes) for analysis. \n",
    "#Rechecking if everything is proper (datatypes, columnnames, null count). Found that there are nulls in this main dataframe\n",
    "df.info()"
   ]
  },
  {
   "cell_type": "code",
   "execution_count": 65,
   "id": "62871611-b53d-4df6-8e9f-fb0911f4289c",
   "metadata": {},
   "outputs": [
    {
     "name": "stdout",
     "output_type": "stream",
     "text": [
      "Null count percentage of each column with respect to total df: \n"
     ]
    },
    {
     "data": {
      "text/plain": [
       "salesorderid       0.0\n",
       "customerid         0.0\n",
       "orderdate          0.0\n",
       "orderquantity      0.0\n",
       "productid          0.0\n",
       "unitprice          0.0\n",
       "linetotal          0.0\n",
       "productname        0.0\n",
       "productnumber      0.0\n",
       "categoryname       0.0\n",
       "subcategoryname    0.0\n",
       "productmodel       0.0\n",
       "listprice          0.0\n",
       "fullname           0.0\n",
       "city               0.0\n",
       "country            0.0\n",
       "dtype: float64"
      ]
     },
     "execution_count": 65,
     "metadata": {},
     "output_type": "execute_result"
    }
   ],
   "source": [
    "#Checking the null percentage of each column using isnull() and shape methods\n",
    "#Found that there are more than 50% nulls in fullname, city and country columns\n",
    "print(\"Null count percentage of each column with respect to total df: \")\n",
    "np.round((df.isnull().sum() / df.shape[0]) * 100, 2)"
   ]
  },
  {
   "cell_type": "code",
   "execution_count": 66,
   "id": "27d04ed0-9319-4669-a23c-7af59a32457c",
   "metadata": {},
   "outputs": [
    {
     "data": {
      "text/plain": [
       "np.int64(0)"
      ]
     },
     "execution_count": 66,
     "metadata": {},
     "output_type": "execute_result"
    }
   ],
   "source": [
    "#checking for duplicates, found none. \n",
    "df.duplicated().sum()"
   ]
  },
  {
   "cell_type": "code",
   "execution_count": 67,
   "id": "b76b437e-b875-4d6a-b2bf-1d8a177cc7b5",
   "metadata": {},
   "outputs": [
    {
     "data": {
      "image/png": "[encoded data removed]",
      "text/plain": [
       "<Figure size 800x600 with 4 Axes>"
      ]
     },
     "metadata": {},
     "output_type": "display_data"
    }
   ],
   "source": [
    "#finding outliers using boxplots for numerical columns \n",
    "\n",
    "numerical_cols = df.select_dtypes(include='number').columns\n",
    "total_plots = len(numerical_cols)\n",
    "ncols = 2\n",
    "nrows = int(np.ceil(total_plots/ ncols))\n",
    "\n",
    "fig, axs = plt.subplots(ncols= ncols, nrows= nrows, figsize = (ncols*4, nrows * 3))\n",
    "axs = axs.flatten()\n",
    "\n",
    "for i, col in enumerate(numerical_cols):\n",
    "    axs[i].boxplot(df[col])\n",
    "    axs[i].set_title(f'Boxplot of {col}')\n",
    "    axs[i].set_ylabel(col)\n",
    "\n",
    "for j in range(i+1, len(axs)): \n",
    "    fig.delaxes(axs[j])\n",
    "\n",
    "plt.tight_layout()\n",
    "plt.show()"
   ]
  },
  {
   "cell_type": "markdown",
   "id": "76198771-4d3d-4e31-9c01-35fa04a956ce",
   "metadata": {},
   "source": [
    "I want to treat outliers for these columns, but as this is an ecommerce domain, there could be huge variation in values\n",
    "\n",
    "Example: Customer can buy 1 item of 1 lakh items at once, this may hugely affect orderquantity column\n",
    "\n",
    "As all the other columns are interdependent on each other, their values will also get affected.\n",
    "\n",
    "Hence, I have not made any treatment to fix outliers even though I am aware of the process using IQR method"
   ]
  },
  {
   "cell_type": "code",
   "execution_count": 68,
   "id": "29d40a48-e9eb-46c3-be7a-87c8d1c1f11d",
   "metadata": {},
   "outputs": [
    {
     "data": {
      "text/plain": [
       "\"for i in df.select_dtypes(include='number').columns:\\n    q1 = df[i].quantile(0.25)\\n    q3 = df[i].quantile(0.75)\\n    IQR = q3 - q1\\n    lower_whisker = q1 - (IQR * 1.5)\\n    upper_whisker = q3 + (IQR * 1.5)\\n    df[i] = np.where(df[i] < lower_whisker, lower_whisker, df[i])\\n    df[i] = np.where(df[i] > upper_whisker, upper_whisker, df[i]) \""
      ]
     },
     "execution_count": 68,
     "metadata": {},
     "output_type": "execute_result"
    }
   ],
   "source": [
    "#handling outliers \n",
    "'''for i in df.select_dtypes(include='number').columns:\n",
    "    q1 = df[i].quantile(0.25)\n",
    "    q3 = df[i].quantile(0.75)\n",
    "    IQR = q3 - q1\n",
    "    lower_whisker = q1 - (IQR * 1.5)\n",
    "    upper_whisker = q3 + (IQR * 1.5)\n",
    "    df[i] = np.where(df[i] < lower_whisker, lower_whisker, df[i])\n",
    "    df[i] = np.where(df[i] > upper_whisker, upper_whisker, df[i]) '''\n",
    "\n"
   ]
  },
  {
   "cell_type": "code",
   "execution_count": 69,
   "id": "d8877a42-673f-48f2-a1bd-e8e0599860ac",
   "metadata": {},
   "outputs": [
    {
     "name": "stdout",
     "output_type": "stream",
     "text": [
      "<class 'pandas.core.frame.DataFrame'>\n",
      "RangeIndex: 60398 entries, 0 to 60397\n",
      "Data columns (total 16 columns):\n",
      " #   Column           Non-Null Count  Dtype         \n",
      "---  ------           --------------  -----         \n",
      " 0   salesorderid     60398 non-null  object        \n",
      " 1   customerid       60398 non-null  object        \n",
      " 2   orderdate        60398 non-null  datetime64[ns]\n",
      " 3   orderquantity    60398 non-null  int64         \n",
      " 4   productid        60398 non-null  object        \n",
      " 5   unitprice        60398 non-null  float64       \n",
      " 6   linetotal        60398 non-null  float64       \n",
      " 7   productname      60398 non-null  object        \n",
      " 8   productnumber    60398 non-null  object        \n",
      " 9   categoryname     60398 non-null  object        \n",
      " 10  subcategoryname  60398 non-null  object        \n",
      " 11  productmodel     60398 non-null  object        \n",
      " 12  listprice        60398 non-null  float64       \n",
      " 13  fullname         60398 non-null  object        \n",
      " 14  city             60398 non-null  object        \n",
      " 15  country          60398 non-null  object        \n",
      "dtypes: datetime64[ns](1), float64(3), int64(1), object(11)\n",
      "memory usage: 7.4+ MB\n"
     ]
    }
   ],
   "source": [
    "df.info()"
   ]
  },
  {
   "cell_type": "code",
   "execution_count": 70,
   "id": "ca0b2ee5-f68d-48ad-8aff-61078770abe7",
   "metadata": {},
   "outputs": [
    {
     "data": {
      "image/png": "[encoded data removed]",
      "text/plain": [
       "<Figure size 1000x1000 with 20 Axes>"
      ]
     },
     "metadata": {},
     "output_type": "display_data"
    }
   ],
   "source": [
    "#plotting scatterplots usng pairplot method of sns. \n",
    "sns.pairplot(df[numerical_cols])\n",
    "plt.show()"
   ]
  },
  {
   "cell_type": "markdown",
   "id": "c5877bfa-fcbf-4fdd-9326-3e815a4d183c",
   "metadata": {},
   "source": [
    "unitprice and linetotal are showing a positive trend and the linetotal is widely affected due to orderquantity\n",
    "\n",
    "orderquantity and linetotal is also showing positive correlation with some clustering in at lower quantities"
   ]
  },
  {
   "cell_type": "code",
   "execution_count": 71,
   "id": "299922a1-ec1d-4f8a-b77d-0d7676cf862a",
   "metadata": {},
   "outputs": [
    {
     "data": {
      "text/plain": [
       "Text(0.5, 1.0, 'heatmap of numerical columns')"
      ]
     },
     "execution_count": 71,
     "metadata": {},
     "output_type": "execute_result"
    },
    {
     "data": {
      "image/png": "[encoded data removed]",
      "text/plain": [
       "<Figure size 500x500 with 2 Axes>"
      ]
     },
     "metadata": {},
     "output_type": "display_data"
    }
   ],
   "source": [
    "#heatmaps \n",
    "numeric_df = df.select_dtypes(include='number')\n",
    "corr_matrix = numeric_df.corr()\n",
    "plt.figure(figsize=(5,5))\n",
    "sns.heatmap(corr_matrix, annot=True, cmap= 'coolwarm', fmt='0.1f', linewidths=0.5, square=True)\n",
    "plt.title('heatmap of numerical columns')\n"
   ]
  },
  {
   "cell_type": "code",
   "execution_count": 72,
   "id": "4e9dc132-8672-4223-b1b7-e2b83ab44900",
   "metadata": {},
   "outputs": [],
   "source": [
    "#unitpirce - linetotal, unitprice - listprice are showing a positive correlation.\n",
    "#As this dataset's numerical columns are limited, there isn't enough information to grab. "
   ]
  },
  {
   "cell_type": "markdown",
   "id": "b1570968-a6a6-47ba-9694-50c21bdf3f0a",
   "metadata": {},
   "source": [
    "### Pushing the cleaned dataframes into SQL SERVER"
   ]
  },
  {
   "cell_type": "code",
   "execution_count": 73,
   "id": "ab3b91b4-7865-4c0a-881d-cb1f54aa4c46",
   "metadata": {},
   "outputs": [],
   "source": [
    "#Assigning the encoded connection string to the variable \"params\"\n",
    "#Assiging SQLAlchemy engine object to the variable \"engine\"\n",
    "\n",
    "params = urllib.parse.quote_plus(r\"DRIVER={ODBC Driver 17 for SQL Server};\"\n",
    "                                 r\"SERVER=RAVIKANTH\\SQLEXPRESS;\"\n",
    "                                 r\"DATABASE=adventureworks_cleaned;\" \n",
    "                                 r\"Trusted_Connection=yes;\")\n",
    "\n",
    "engine = create_engine(f\"mssql+pyodbc:///?odbc_connect={params}\")\n",
    "\n"
   ]
  },
  {
   "cell_type": "code",
   "execution_count": 74,
   "id": "0112abd4-fe4a-4f44-8291-3a6c8f88c13f",
   "metadata": {},
   "outputs": [
    {
     "data": {
      "text/plain": [
       "144"
      ]
     },
     "execution_count": 74,
     "metadata": {},
     "output_type": "execute_result"
    }
   ],
   "source": [
    "#Saving the data in adventureworks_cleaned database in SQL Server with the table names as 'orders', 'products', 'customers'\n",
    "orders_df.to_sql('orders', con=engine, index=False, if_exists='append')\n",
    "products_df.to_sql('products', con=engine, index=False, if_exists='append')\n",
    "customers_df.to_sql('customers', con=engine, index=False, if_exists='append')"
   ]
  },
  {
   "cell_type": "code",
   "execution_count": null,
   "id": "9a49b326-78cf-413a-a5d9-c1f2dd18a5f7",
   "metadata": {},
   "outputs": [],
   "source": []
  }
 ],
 "metadata": {
  "kernelspec": {
   "display_name": "Python 3 (ipykernel)",
   "language": "python",
   "name": "python3"
  },
  "language_info": {
   "codemirror_mode": {
    "name": "ipython",
    "version": 3
   },
   "file_extension": ".py",
   "mimetype": "text/x-python",
   "name": "python",
   "nbconvert_exporter": "python",
   "pygments_lexer": "ipython3",
   "version": "3.12.6"
  }
 },
 "nbformat": 4,
 "nbformat_minor": 5
}
